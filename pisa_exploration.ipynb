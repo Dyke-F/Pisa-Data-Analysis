{
 "cells": [
  {
   "cell_type": "markdown",
   "metadata": {},
   "source": [
    "# Pisa 2012 Data Exploration\n",
    "### by Gabriela Sikora\n",
    "\n",
    "## Introduction\n",
    "This notebook will be dedicated to exploring details of the PISA 2012 dataset. PISA, in particular, is a \"survey of students' skills and knowledge as they approach the end of compulsory education. It is not a conventional school test. Rather than examining how well students have learned the school curriculum, it looks at how well prepared they are for life beyond school\" (Udacity, 2019).\n",
    "\n",
    "Within this datset we can find information for about 510,000 students. The PISA 2012 dataset includes information on mathematics, reading in the test language, and science.\n",
    "\n",
    "\n",
    "Throughout the course of this notebook I will have these two questions in mind:\n",
    "\n",
    "- Are there differences in achievement based on gender or parental education levels?\n",
    "- Is there a relationship between the amount of time a student dedicates to learning and their score? \n",
    "\n",
    "## Preliminary Wrangling \n",
    "To begin, let's start off by assessing the dataset and cleaning any remaining issues."
   ]
  },
  {
   "cell_type": "code",
   "execution_count": null,
   "metadata": {},
   "outputs": [],
   "source": [
    "# Import all packages and set plots to be embedded inline\n",
    "import numpy as np\n",
    "import pandas as pd\n",
    "import matplotlib.pyplot as plt\n",
    "import seaborn as sb\n",
    "\n",
    "%matplotlib inline"
   ]
  },
  {
   "cell_type": "code",
   "execution_count": null,
   "metadata": {},
   "outputs": [],
   "source": [
    "# Read in the cleaned csv that was created in the wrangle_pisa notebook\n",
    "pisa = pd.read_csv('pisa_df.csv')"
   ]
  },
  {
   "cell_type": "markdown",
   "metadata": {},
   "source": [
    "### Assessing and Cleaning the Data"
   ]
  },
  {
   "cell_type": "markdown",
   "metadata": {},
   "source": [
    "#### General"
   ]
  },
  {
   "cell_type": "code",
   "execution_count": null,
   "metadata": {},
   "outputs": [],
   "source": [
    "# How many rows and variables the dataset holds\n",
    "pisa.shape"
   ]
  },
  {
   "cell_type": "code",
   "execution_count": null,
   "metadata": {
    "scrolled": true
   },
   "outputs": [],
   "source": [
    "# What are the data types of the variables\n",
    "pisa.dtypes"
   ]
  },
  {
   "cell_type": "code",
   "execution_count": null,
   "metadata": {
    "scrolled": true
   },
   "outputs": [],
   "source": [
    "# See 10 examples of data in the dataset \n",
    "pisa.sample(10)"
   ]
  },
  {
   "cell_type": "code",
   "execution_count": null,
   "metadata": {},
   "outputs": [],
   "source": [
    "# Decriptive statistics for each numeric variable\n",
    "pisa.describe()"
   ]
  },
  {
   "cell_type": "markdown",
   "metadata": {},
   "source": [
    "#### Parental Education"
   ]
  },
  {
   "cell_type": "code",
   "execution_count": null,
   "metadata": {
    "scrolled": false
   },
   "outputs": [],
   "source": [
    "# The type and quantity of the educational levels for 'Education - Father'\n",
    "pisa['Education - Father'].value_counts()"
   ]
  },
  {
   "cell_type": "code",
   "execution_count": null,
   "metadata": {
    "scrolled": true
   },
   "outputs": [],
   "source": [
    "# The type and quantity of the educational levels for 'Education - Mother'\n",
    "pisa['Education - Mother'].value_counts()"
   ]
  },
  {
   "cell_type": "code",
   "execution_count": null,
   "metadata": {},
   "outputs": [],
   "source": [
    "# Convert parental level of education into ordered categorical types\n",
    "ordinal_var_dict = {'Education - Father': ['<ISCED level 0>', '<ISCED level 1>', '<ISCED level 2>', '<ISCED level 3>', '<ISCED level 4>', '<ISCED level 5>', '<ISCED level 6>'],\n",
    "                    'Education - Mother': ['<ISCED level 0>', '<ISCED level 1>', '<ISCED level 2>', '<ISCED level 3>', '<ISCED level 4>', '<ISCED level 5>', '<ISCED level 6>']}\n",
    "\n",
    "for var in ordinal_var_dict:\n",
    "    ordered_var = pd.api.types.CategoricalDtype(ordered = True,\n",
    "                                                categories = ordinal_var_dict[var])\n",
    "    pisa[var] = pisa[var].astype(ordered_var)"
   ]
  },
  {
   "cell_type": "markdown",
   "metadata": {},
   "source": [
    "#### Scores"
   ]
  },
  {
   "cell_type": "code",
   "execution_count": null,
   "metadata": {},
   "outputs": [],
   "source": [
    "high_score = pisa[pisa['Average Total Score'] >= 785]\n",
    "low_score = pisa[pisa['Average Total Score'] <= 630]"
   ]
  },
  {
   "cell_type": "code",
   "execution_count": null,
   "metadata": {
    "scrolled": true
   },
   "outputs": [],
   "source": [
    "high_score.head()"
   ]
  },
  {
   "cell_type": "code",
   "execution_count": null,
   "metadata": {},
   "outputs": [],
   "source": [
    "high_score.shape"
   ]
  },
  {
   "cell_type": "code",
   "execution_count": null,
   "metadata": {
    "scrolled": true
   },
   "outputs": [],
   "source": [
    "low_score.head()"
   ]
  },
  {
   "cell_type": "code",
   "execution_count": null,
   "metadata": {},
   "outputs": [],
   "source": [
    "pisa.shape"
   ]
  },
  {
   "cell_type": "code",
   "execution_count": null,
   "metadata": {},
   "outputs": [],
   "source": [
    "pisa['Student ID'].duplicated().sum()"
   ]
  },
  {
   "cell_type": "code",
   "execution_count": null,
   "metadata": {},
   "outputs": [],
   "source": [
    "pisa.drop_duplicates(inplace=True)"
   ]
  },
  {
   "cell_type": "code",
   "execution_count": null,
   "metadata": {},
   "outputs": [],
   "source": [
    "pisa.duplicated().sum()"
   ]
  },
  {
   "cell_type": "code",
   "execution_count": null,
   "metadata": {},
   "outputs": [],
   "source": [
    "pisa.shape"
   ]
  },
  {
   "cell_type": "markdown",
   "metadata": {},
   "source": [
    "### The structure of the dataset\n",
    "\n",
    "This cleaned version of the Pisa dataset from 2012 is composed of 43,715 rows, each of which represents one student. As for the features of this dataset, there are 18 variables that have been selected, most of which are numeric. Two of the variables are different however in that they are ordered categorical variables. They are the highest educational levels of the mother and father of the student, and are sorted from lowest level of education to highest level:\n",
    "\n",
    "**(least educated) —> (most educated)** <br>\n",
    "**<ISCED level 0>** : Pre-primary education <br>\n",
    "**<ISCED level 1>** : Primary education or first stage of basic education<br>\n",
    "**<ISCED level 2>** : Lower secondary education or second stage of basic education<br>\n",
    "**<ISCED level 3>** : Upper secondary education<br>\n",
    "**<ISCED level 4>** : Post-secondary non-tertiary education <br>\n",
    "**<ISCED level 5>** : First stage of tertiary education<br>\n",
    "**<ISCED level 6>** : Second stage of tertiary education <br>\n",
    "\n",
    "\n",
    "### Main feature of interest in the dataset\n",
    "\n",
    "The main feature that we will be exploring is the 'Average Total Score'. \n",
    "\n",
    "### Features that will support the investigation into 'Average Total Score'\n",
    "\n",
    "To better understand the Average Total Score, I believe that 'Out-of-School Study Time - Total' and 'Learning time (minutes per week) - Total' will provide illuminating results. The average assumption is that the more homework a student completes, the better they will perform when writing tests, but there has been a recent uprise in research that explains that it is not a good predictor of test success. Rather, I expect that the educational level of the parents, and the amount of books that they have in their home will be a better feature to predict the student's test related success."
   ]
  },
  {
   "cell_type": "markdown",
   "metadata": {},
   "source": [
    "## Univariate Exploration\n",
    "\n",
    "We can start off by looking at the main feature of interest: the average total score. \n",
    "\n",
    "In particular, let's first look at a standard-scale plot of this value to see its distribution."
   ]
  },
  {
   "cell_type": "code",
   "execution_count": null,
   "metadata": {
    "scrolled": false
   },
   "outputs": [],
   "source": [
    "# Histogram of Average Total Score\n",
    "binsize = 20\n",
    "bins = np.arange(0, pisa['Average Total Score'].max()+binsize, binsize)\n",
    "plt.figure(figsize=[8, 5])\n",
    "plt.hist(data = pisa, x = 'Average Total Score', bins=bins)\n",
    "plt.xlabel('Average Total Score')"
   ]
  },
  {
   "cell_type": "markdown",
   "metadata": {},
   "source": [
    "Here we can see that it is a very normal distribution. This is generally not surprising since bell curves are expected when it comes to the grades of students.\n",
    "\n",
    "We can now move onto the three scores that the total score is comprised of: Math, Reading, and Science."
   ]
  },
  {
   "cell_type": "code",
   "execution_count": null,
   "metadata": {},
   "outputs": [],
   "source": [
    "# Histogram of Average Math Score\n",
    "binsize = 20\n",
    "bins = np.arange(0, pisa['Average Math Score'].max()+binsize, binsize)\n",
    "plt.figure(figsize=[8, 5])\n",
    "plt.hist(data = pisa, x = 'Average Math Score', bins=bins)\n",
    "plt.xlabel('Average Math Score')"
   ]
  },
  {
   "cell_type": "markdown",
   "metadata": {},
   "source": [
    "Although the numbers along the x scale are a bit lower than they are for the total scores, we can easily say that this distribution is very much so like the total score in that it has a distinct normal distribution."
   ]
  },
  {
   "cell_type": "code",
   "execution_count": null,
   "metadata": {},
   "outputs": [],
   "source": [
    "# Histogram of Average Reading Score\n",
    "binsize = 20\n",
    "bins = np.arange(0, pisa['Average Reading Score'].max()+binsize, binsize)\n",
    "plt.figure(figsize=[8, 5])\n",
    "plt.hist(data = pisa, x = 'Average Reading Score', bins=bins)\n",
    "plt.xlabel('Average Reading Score')"
   ]
  },
  {
   "cell_type": "markdown",
   "metadata": {},
   "source": [
    "Just as with the Math score, we can see the average Reading score is falling along a normal distribution."
   ]
  },
  {
   "cell_type": "code",
   "execution_count": null,
   "metadata": {},
   "outputs": [],
   "source": [
    "# Histogram of Average Science Score\n",
    "binsize = 20\n",
    "bins = np.arange(0, pisa['Average Science Score'].max()+binsize, binsize)\n",
    "plt.figure(figsize=[8, 5])\n",
    "plt.hist(data = pisa, x = 'Average Science Score', bins=bins)\n",
    "plt.xlabel('Average Science Score')"
   ]
  },
  {
   "cell_type": "markdown",
   "metadata": {},
   "source": [
    "Just as with the Total, Math, and Reading scores, we can see the Science score also falls along a normal distribution. "
   ]
  },
  {
   "cell_type": "code",
   "execution_count": null,
   "metadata": {
    "scrolled": true
   },
   "outputs": [],
   "source": [
    "# Histogram of the Total Out-of-School Study Time\n",
    "plt.figure(figsize=[8, 5])\n",
    "plt.hist(data = pisa, x = 'Out-of-School Study Time - Total')\n",
    "plt.xlabel('Price ($)')"
   ]
  },
  {
   "cell_type": "code",
   "execution_count": null,
   "metadata": {},
   "outputs": [],
   "source": [
    "# Histogram of the Total Learning Time\n",
    "plt.figure(figsize=[8, 5])\n",
    "plt.hist(data = pisa, x = 'Learning Time - Total')\n",
    "plt.xlabel('Price ($)')"
   ]
  },
  {
   "cell_type": "code",
   "execution_count": null,
   "metadata": {},
   "outputs": [],
   "source": [
    "# The ordinal variable's distribution for both Mother's and Father's Education \n",
    "fig, ax = plt.subplots(nrows=2, figsize = [18,18])\n",
    "\n",
    "default_color = sb.color_palette()[0]\n",
    "sb.countplot(data = pisa, x = 'Education - Father', color = default_color, ax = ax[0])\n",
    "sb.countplot(data = pisa, x = 'Education - Mother', color = default_color, ax = ax[1])\n",
    "\n",
    "plt.show()"
   ]
  },
  {
   "cell_type": "markdown",
   "metadata": {},
   "source": [
    "> Make sure that, after every plot or related series of plots, that you\n",
    "include a Markdown cell with comments about what you observed, and what\n",
    "you plan on investigating next."
   ]
  },
  {
   "cell_type": "code",
   "execution_count": null,
   "metadata": {},
   "outputs": [],
   "source": []
  },
  {
   "cell_type": "markdown",
   "metadata": {},
   "source": [
    "### Discuss the distribution(s) of your variable(s) of interest. Were there any unusual points? Did you need to perform any transformations?\n",
    "\n",
    "> Your answer here!\n",
    "\n",
    "### Of the features you investigated, were there any unusual distributions? Did you perform any operations on the data to tidy, adjust, or change the form of the data? If so, why did you do this?\n",
    "\n",
    "> Your answer here!"
   ]
  },
  {
   "cell_type": "markdown",
   "metadata": {},
   "source": [
    "## Bivariate Exploration\n",
    "\n",
    "> In this section, investigate relationships between pairs of variables in your\n",
    "data. Make sure the variables that you cover here have been introduced in some\n",
    "fashion in the previous section (univariate exploration)."
   ]
  },
  {
   "cell_type": "code",
   "execution_count": null,
   "metadata": {},
   "outputs": [],
   "source": [
    "numeric_vars = ['Average Math Score', 'Average Reading Score', 'Average Science Score', 'Average Total Score', 'Out-of-School Study Time - Total', 'Learning Time - Total']\n"
   ]
  },
  {
   "cell_type": "code",
   "execution_count": null,
   "metadata": {
    "scrolled": true
   },
   "outputs": [],
   "source": [
    "# correlation plot\n",
    "plt.figure(figsize = [8, 5])\n",
    "sb.heatmap(pisa[numeric_vars].corr(), annot = True, fmt = '.3f',\n",
    "           cmap = 'vlag_r', center = 0)\n",
    "plt.show()"
   ]
  },
  {
   "cell_type": "code",
   "execution_count": null,
   "metadata": {},
   "outputs": [],
   "source": [
    "numeric_vars = ['Average Math Score', 'Average Reading Score', 'Average Science Score', \n",
    "                'Average Total Score', 'Learning Time - Mathematics',\n",
    "                'Learning Time - Test Language', 'Learning Time - Science', \n",
    "                'Learning Time - Total']\n"
   ]
  },
  {
   "cell_type": "code",
   "execution_count": null,
   "metadata": {},
   "outputs": [],
   "source": [
    "# correlation plot\n",
    "plt.figure(figsize = [8, 5])\n",
    "sb.heatmap(pisa[numeric_vars].corr(), annot = True, fmt = '.3f',\n",
    "           cmap = 'vlag_r', center = 0)\n",
    "plt.show()"
   ]
  },
  {
   "cell_type": "code",
   "execution_count": null,
   "metadata": {
    "scrolled": false
   },
   "outputs": [],
   "source": [
    "samples = np.random.choice(pisa.shape[0], 500, replace = False)\n",
    "pisa_samp = pisa.loc[samples,:]\n",
    "\n",
    "g = sb.PairGrid(data = pisa_samp, vars = numeric_vars)\n",
    "g = g.map_diag(plt.hist, bins = 20);\n",
    "g.map_offdiag(plt.scatter);"
   ]
  },
  {
   "cell_type": "code",
   "execution_count": null,
   "metadata": {},
   "outputs": [],
   "source": [
    "homework_vars = ['Out-of-School Study Time - Homework',\n",
    "                      'Out-of-School Study Time - Guided Homework',\n",
    "                      'Out-of-School Study Time - Personal Tutor',\n",
    "                      'Out-of-School Study Time - Commercial Company',\n",
    "                      'Out-of-School Study Time - With Parent',\n",
    "                      'Learning Time - Mathematics',\n",
    "                      'Learning Time - Test Language',\n",
    "                      'Learning Time - Science']"
   ]
  },
  {
   "cell_type": "code",
   "execution_count": null,
   "metadata": {},
   "outputs": [],
   "source": [
    "# correlation plot\n",
    "plt.figure(figsize = [8, 5])\n",
    "sb.heatmap(pisa[homework_vars].corr(), annot = True, fmt = '.3f',\n",
    "           cmap = 'vlag_r', center = 0)\n",
    "plt.show()"
   ]
  },
  {
   "cell_type": "code",
   "execution_count": null,
   "metadata": {
    "scrolled": true
   },
   "outputs": [],
   "source": [
    "g = sb.FacetGrid(data = pisa, col = 'Education - Mother');\n",
    "g.map(plt.hist, 'Average Total Score');"
   ]
  },
  {
   "cell_type": "code",
   "execution_count": null,
   "metadata": {},
   "outputs": [],
   "source": [
    "g = sb.FacetGrid(data = pisa, col = 'Education - Father');\n",
    "g.map(plt.hist, 'Average Total Score');"
   ]
  },
  {
   "cell_type": "code",
   "execution_count": null,
   "metadata": {
    "scrolled": true
   },
   "outputs": [],
   "source": [
    "sb.regplot(data= pisa, x = 'Average Total Score', \n",
    "           y = 'Learning Time - Total', \n",
    "           fit_reg = False, \n",
    "           scatter_kws = {'alpha': 1/5})\n",
    "plt.xlabel('Out-of-School Study Time - Total')\n",
    "plt.ylabel('Learning Time - Total');"
   ]
  },
  {
   "cell_type": "code",
   "execution_count": null,
   "metadata": {},
   "outputs": [],
   "source": [
    "sb.regplot(data= pisa, x = 'Average Math Score', \n",
    "           y = 'Learning Time - Mathematics', \n",
    "           fit_reg = False, \n",
    "           scatter_kws = {'alpha': 1/5})\n",
    "plt.xlabel('Out-of-School Study Time - Total')\n",
    "plt.ylabel('Learning time (minutes per week) - Total');"
   ]
  },
  {
   "cell_type": "code",
   "execution_count": null,
   "metadata": {},
   "outputs": [],
   "source": [
    "sb.regplot(data= pisa, x = 'Average Reading Score', \n",
    "           y = 'Learning Time - Test Language', \n",
    "           fit_reg = False, \n",
    "           scatter_kws = {'alpha': 1/5})\n",
    "plt.xlabel('Out-of-School Study Time - Total')\n",
    "plt.ylabel('Learning time (minutes per week) - Total');"
   ]
  },
  {
   "cell_type": "code",
   "execution_count": null,
   "metadata": {},
   "outputs": [],
   "source": [
    "sb.regplot(data= pisa, x = 'Average Science Score', \n",
    "           y = 'Learning Time - Science', \n",
    "           fit_reg = False, \n",
    "           scatter_kws = {'alpha': 1/5})\n",
    "plt.xlabel('Out-of-School Study Time - Total')\n",
    "plt.ylabel('Learning time (minutes per week) - Total');"
   ]
  },
  {
   "cell_type": "code",
   "execution_count": null,
   "metadata": {},
   "outputs": [],
   "source": []
  },
  {
   "cell_type": "code",
   "execution_count": null,
   "metadata": {
    "scrolled": true
   },
   "outputs": [],
   "source": [
    "sb.regplot(data= pisa, x = 'Average Reading Score', \n",
    "           y = 'Average Math Score', \n",
    "           fit_reg = False, \n",
    "           scatter_kws = {'alpha': 1/5})\n",
    "plt.xlabel('Out-of-School Study Time - Total')\n",
    "plt.ylabel('Learning time (minutes per week) - Total');"
   ]
  },
  {
   "cell_type": "code",
   "execution_count": null,
   "metadata": {},
   "outputs": [],
   "source": [
    "sb.regplot(data= pisa, x = 'Average Reading Score', \n",
    "           y = 'Average Science Score', \n",
    "           fit_reg = False, \n",
    "           scatter_kws = {'alpha': 1/5})\n",
    "plt.xlabel('Out-of-School Study Time - Total')\n",
    "plt.ylabel('Learning time (minutes per week) - Total');"
   ]
  },
  {
   "cell_type": "code",
   "execution_count": null,
   "metadata": {},
   "outputs": [],
   "source": [
    "sb.regplot(data= pisa, x = 'Average Math Score', \n",
    "           y = 'Average Science Score', \n",
    "           fit_reg = False, \n",
    "           scatter_kws = {'alpha': 1/5})\n",
    "plt.xlabel('Out-of-School Study Time - Total')\n",
    "plt.ylabel('Learning time (minutes per week) - Total');"
   ]
  },
  {
   "cell_type": "code",
   "execution_count": null,
   "metadata": {},
   "outputs": [],
   "source": [
    "list(pisa)"
   ]
  },
  {
   "cell_type": "code",
   "execution_count": null,
   "metadata": {},
   "outputs": [],
   "source": [
    "plt.hist2d(data = pisa, x = 'Average Math Score', \n",
    "           y = 'Learning Time - Mathematics', cmin = 0.5);\n",
    "plt.colorbar()\n",
    "plt.xlabel('Displacement (1)')\n",
    "plt.ylabel('Combined Fuel Eff. (mpg)');"
   ]
  },
  {
   "cell_type": "code",
   "execution_count": null,
   "metadata": {},
   "outputs": [],
   "source": [
    "plt.hist2d(data = pisa, x = 'Average Reading Score', \n",
    "           y = 'Learning Time - Test Language', cmin = 0.5);\n",
    "plt.colorbar()\n",
    "plt.xlabel('Displacement (1)')\n",
    "plt.ylabel('Combined Fuel Eff. (mpg)');"
   ]
  },
  {
   "cell_type": "code",
   "execution_count": null,
   "metadata": {},
   "outputs": [],
   "source": [
    "plt.hist2d(data = pisa, x = 'Average Science Score', \n",
    "           y = 'Learning Time - Science', cmin = 0.5);\n",
    "plt.colorbar()\n",
    "plt.xlabel('Displacement (1)')\n",
    "plt.ylabel('Combined Fuel Eff. (mpg)');"
   ]
  },
  {
   "cell_type": "code",
   "execution_count": null,
   "metadata": {},
   "outputs": [],
   "source": [
    "plt.hist2d(data = pisa, x = 'Average Total Score', \n",
    "           y = 'Learning Time - Total', cmin = 0.5);\n",
    "plt.colorbar()\n",
    "plt.xlabel('Displacement (1)')\n",
    "plt.ylabel('Combined Fuel Eff. (mpg)');"
   ]
  },
  {
   "cell_type": "code",
   "execution_count": null,
   "metadata": {
    "scrolled": true
   },
   "outputs": [],
   "source": [
    "sb.violinplot(data = pisa, \n",
    "              x = 'Education - Father', \n",
    "              y = 'Average Total Score');\n",
    "plt.xticks(rotation = 15);"
   ]
  },
  {
   "cell_type": "code",
   "execution_count": null,
   "metadata": {
    "scrolled": true
   },
   "outputs": [],
   "source": [
    "sb.violinplot(data = pisa, \n",
    "              x = 'Education - Mother', \n",
    "              y = 'Average Total Score');\n",
    "plt.xticks(rotation = 15);"
   ]
  },
  {
   "cell_type": "code",
   "execution_count": null,
   "metadata": {},
   "outputs": [],
   "source": [
    "sb.boxplot(data = pisa, \n",
    "              x = 'Gender', \n",
    "              y = 'Average Total Score');\n",
    "plt.xticks(rotation = 15);"
   ]
  },
  {
   "cell_type": "code",
   "execution_count": null,
   "metadata": {},
   "outputs": [],
   "source": [
    "list(pisa)"
   ]
  },
  {
   "cell_type": "code",
   "execution_count": null,
   "metadata": {},
   "outputs": [],
   "source": [
    "sb.boxplot(data = pisa, \n",
    "              x = 'Education - Father', \n",
    "              y = 'Average Total Score');\n",
    "plt.xticks(rotation = 15);"
   ]
  },
  {
   "cell_type": "code",
   "execution_count": null,
   "metadata": {},
   "outputs": [],
   "source": [
    "sb.boxplot(data = pisa, \n",
    "              x = 'Education - Mother', \n",
    "              y = 'Average Total Score');\n",
    "plt.xticks(rotation = 15);"
   ]
  },
  {
   "cell_type": "code",
   "execution_count": null,
   "metadata": {
    "scrolled": true
   },
   "outputs": [],
   "source": [
    "sb.countplot(data = pisa, x = 'Education - Father', hue = 'Gender')\n",
    "plt.xticks(rotation = 15);"
   ]
  },
  {
   "cell_type": "code",
   "execution_count": null,
   "metadata": {},
   "outputs": [],
   "source": [
    "# fix y axis\n",
    "g = sb.FacetGrid(data = pisa, col = 'Education - Father', col_wrap = 4, sharey = False);\n",
    "g.map(plt.hist, 'Average Total Score');"
   ]
  },
  {
   "cell_type": "code",
   "execution_count": null,
   "metadata": {},
   "outputs": [],
   "source": [
    "# fix y axis\n",
    "g = sb.FacetGrid(data = pisa, col = 'Education - Mother', col_wrap = 4, sharey = False);\n",
    "g.map(plt.hist, 'Average Total Score');"
   ]
  },
  {
   "cell_type": "code",
   "execution_count": null,
   "metadata": {},
   "outputs": [],
   "source": [
    "base_color = sb.color_palette()[9]\n",
    "sb.barplot(data = pisa, \n",
    "              x = 'Education - Father', \n",
    "              y = 'Average Total Score',\n",
    "              color = base_color);\n",
    "plt.xticks(rotation = 15);"
   ]
  },
  {
   "cell_type": "code",
   "execution_count": null,
   "metadata": {
    "scrolled": true
   },
   "outputs": [],
   "source": [
    "base_color = sb.color_palette()[9]\n",
    "sb.barplot(data = pisa, \n",
    "              x = 'Education - Mother', \n",
    "              y = 'Average Total Score',\n",
    "              color = base_color);\n",
    "plt.xticks(rotation = 15);"
   ]
  },
  {
   "cell_type": "code",
   "execution_count": null,
   "metadata": {},
   "outputs": [],
   "source": [
    "sb.pointplot(data = pisa, \n",
    "              x = 'Education - Father', \n",
    "              y = 'Average Total Score');\n",
    "plt.xticks(rotation = 15);"
   ]
  },
  {
   "cell_type": "code",
   "execution_count": null,
   "metadata": {},
   "outputs": [],
   "source": [
    "sb.pointplot(data = pisa, \n",
    "              x = 'Education - Mother', \n",
    "              y = 'Average Total Score');\n",
    "plt.xticks(rotation = 15);"
   ]
  },
  {
   "cell_type": "code",
   "execution_count": null,
   "metadata": {},
   "outputs": [],
   "source": [
    "list(pisa)"
   ]
  },
  {
   "cell_type": "code",
   "execution_count": null,
   "metadata": {},
   "outputs": [],
   "source": [
    "sb.pointplot(data = pisa, \n",
    "              x = 'Out-of-School Study Time - Total', \n",
    "              y = 'Average Total Score');\n",
    "plt.xticks(rotation = 15);"
   ]
  },
  {
   "cell_type": "code",
   "execution_count": null,
   "metadata": {},
   "outputs": [],
   "source": [
    "np.random.seed(2018)\n",
    "sample = np.random.choice(pisa.shape[0], 200, replace=False)\n",
    "pisa_subset = pisa.loc[sample]"
   ]
  },
  {
   "cell_type": "code",
   "execution_count": null,
   "metadata": {
    "scrolled": true
   },
   "outputs": [],
   "source": [
    "g = sb.FacetGrid(data = pisa_subset, hue = 'Gender')\n",
    "g.map(sb.regplot, 'Average Math Score', 'Average Reading Score', fit_reg = False)\n",
    "plt.legend();"
   ]
  },
  {
   "cell_type": "code",
   "execution_count": null,
   "metadata": {
    "scrolled": true
   },
   "outputs": [],
   "source": [
    "g = sb.FacetGrid(data = pisa_subset, hue = 'Gender')\n",
    "g.map(sb.regplot, 'Average Math Score', 'Average Science Score', fit_reg = False)\n",
    "plt.legend();"
   ]
  },
  {
   "cell_type": "code",
   "execution_count": null,
   "metadata": {},
   "outputs": [],
   "source": [
    "g = sb.FacetGrid(data = pisa_subset, hue = 'Gender')\n",
    "g.map(sb.regplot, 'Average Science Score', 'Average Reading Score', fit_reg = False)\n",
    "plt.legend();"
   ]
  },
  {
   "cell_type": "code",
   "execution_count": null,
   "metadata": {
    "scrolled": false
   },
   "outputs": [],
   "source": [
    "g = sb.FacetGrid(data = pisa_subset, hue = 'Gender')\n",
    "g.map(sb.regplot, 'Average Total Score', 'Out-of-School Study Time - Total', fit_reg = False)\n",
    "plt.legend();"
   ]
  },
  {
   "cell_type": "code",
   "execution_count": null,
   "metadata": {},
   "outputs": [],
   "source": [
    "g = sb.FacetGrid(data = pisa_subset, hue = 'Gender')\n",
    "g.map(sb.regplot, 'Average Total Score', 'Learning Time - Total', fit_reg = False)\n",
    "plt.legend();"
   ]
  },
  {
   "cell_type": "code",
   "execution_count": null,
   "metadata": {},
   "outputs": [],
   "source": []
  },
  {
   "cell_type": "code",
   "execution_count": null,
   "metadata": {},
   "outputs": [],
   "source": []
  },
  {
   "cell_type": "code",
   "execution_count": null,
   "metadata": {},
   "outputs": [],
   "source": []
  },
  {
   "cell_type": "markdown",
   "metadata": {},
   "source": [
    "### Talk about some of the relationships you observed in this part of the investigation. How did the feature(s) of interest vary with other features in the dataset?\n",
    "\n",
    "> Your answer here!\n",
    "\n",
    "### Did you observe any interesting relationships between the other features (not the main feature(s) of interest)?\n",
    "\n",
    "> Your answer here!"
   ]
  },
  {
   "cell_type": "markdown",
   "metadata": {},
   "source": [
    "## Multivariate Exploration\n",
    "\n",
    "> Create plots of three or more variables to investigate your data even\n",
    "further. Make sure that your investigations are justified, and follow from\n",
    "your work in the previous sections."
   ]
  },
  {
   "cell_type": "code",
   "execution_count": null,
   "metadata": {},
   "outputs": [],
   "source": [
    "numeric_vars = ['Average Math Score', 'Average Reading Score', 'Average Science Score', \n",
    "                'Average Total Score']"
   ]
  },
  {
   "cell_type": "code",
   "execution_count": null,
   "metadata": {},
   "outputs": [],
   "source": [
    "samples = np.random.choice(pisa.shape[0], 500, replace = False)\n",
    "pisa_samp = pisa.loc[samples,:]\n",
    "\n",
    "g = sb.PairGrid(data = pisa_samp, vars = numeric_vars, hue='Education - Father')\n",
    "g = g.map_diag(plt.hist, bins = 20);\n",
    "g.map_offdiag(plt.scatter)"
   ]
  },
  {
   "cell_type": "code",
   "execution_count": null,
   "metadata": {},
   "outputs": [],
   "source": []
  },
  {
   "cell_type": "code",
   "execution_count": null,
   "metadata": {},
   "outputs": [],
   "source": []
  },
  {
   "cell_type": "code",
   "execution_count": null,
   "metadata": {},
   "outputs": [],
   "source": []
  },
  {
   "cell_type": "code",
   "execution_count": null,
   "metadata": {},
   "outputs": [],
   "source": [
    "list(pisa)"
   ]
  },
  {
   "cell_type": "code",
   "execution_count": null,
   "metadata": {},
   "outputs": [],
   "source": [
    "np.random.seed(2018)\n",
    "sample = np.random.choice(pisa.shape[0], 200, replace=False)\n",
    "pisa_subset = pisa.loc[sample]"
   ]
  },
  {
   "cell_type": "code",
   "execution_count": null,
   "metadata": {},
   "outputs": [],
   "source": [
    "g = sb.FacetGrid(data = pisa_subset, hue = 'Education - Father')\n",
    "g.map(sb.regplot, 'Average Total Score', 'Average Math Score',  x_jitter = 0.04, fit_reg = False)\n",
    "plt.legend()\n",
    "plt.ylabel('Combined Fuel Eff. (mpg)');"
   ]
  },
  {
   "cell_type": "code",
   "execution_count": null,
   "metadata": {},
   "outputs": [],
   "source": [
    "plt.figure(figsize = [8,6])\n",
    "plt.scatter(data = pisa, \n",
    "            y = 'Average Math Score',\n",
    "            x = 'Average Reading Score',\n",
    "            c = 'Average Total Score')\n",
    "# plt.xlim(0, 160)\n",
    "# plt.ylim(15, 160)\n",
    "plt.colorbar(label = 'Speed')\n",
    "plt.xlabel('Defense')\n",
    "plt.ylabel('Special Defense');"
   ]
  },
  {
   "cell_type": "code",
   "execution_count": null,
   "metadata": {},
   "outputs": [],
   "source": [
    "pisa['Gender'].value_counts()"
   ]
  },
  {
   "cell_type": "code",
   "execution_count": null,
   "metadata": {},
   "outputs": [],
   "source": [
    "list(pisa)"
   ]
  },
  {
   "cell_type": "code",
   "execution_count": null,
   "metadata": {},
   "outputs": [],
   "source": [
    "pisa_sub = pisa.loc[pisa['Gender'].isin(['Male', 'Female'])]\n",
    "\n",
    "sb.boxplot(data = pisa_sub, \n",
    "              x = 'Average Science Score', \n",
    "              y = 'Learning Time - Science',\n",
    "             hue = 'Gender');\n",
    "plt.xticks(rotation = 15);\n",
    "plt.ylabel('Displacement (1)')\n",
    "plt.xlabel('Vehicle Class')\n",
    "plt.legend(loc='center left', bbox_to_anchor=(1, 0.5));"
   ]
  },
  {
   "cell_type": "code",
   "execution_count": null,
   "metadata": {},
   "outputs": [],
   "source": [
    "pisa.describe()"
   ]
  },
  {
   "cell_type": "code",
   "execution_count": null,
   "metadata": {},
   "outputs": [],
   "source": []
  },
  {
   "cell_type": "code",
   "execution_count": null,
   "metadata": {},
   "outputs": [],
   "source": [
    "### Average score per study hours "
   ]
  },
  {
   "cell_type": "code",
   "execution_count": null,
   "metadata": {},
   "outputs": [],
   "source": [
    "# https://python-graph-gallery.com/122-multiple-lines-chart/\n",
    "plt.plot('Out-of-School Study Time - Total', 'Average Total Score', data=pisa )\n",
    "plt.plot('Out-of-School Study Time - Total', 'Average Math Score', data=pisa )\n",
    "plt.plot('Out-of-School Study Time - Total', 'Average Reading Score', data=pisa )\n",
    "plt.plot('Out-of-School Study Time - Total', 'Average Science Score', data=pisa )\n",
    "\n",
    "plt.legend()"
   ]
  },
  {
   "cell_type": "code",
   "execution_count": null,
   "metadata": {},
   "outputs": [],
   "source": [
    "carat_ticks = [0.2, 0.3, 0.5, 0.7, 1, 1.5, 2, 3]"
   ]
  },
  {
   "cell_type": "code",
   "execution_count": null,
   "metadata": {},
   "outputs": [],
   "source": [
    "# compute the logarithm of Average Total Score to make multivariate plotting easier\n",
    "def log_trans(x, inverse = False):\n",
    "    \"\"\" quick function for computing log and power operations \"\"\"\n",
    "    if not inverse:\n",
    "        return np.log10(x)\n",
    "    else:\n",
    "        return np.power(10, x)\n",
    "    \n",
    "# compute the cuberoot of Out-of-School Study Time - Total to make multivariate plotting easier\n",
    "def cuberoot_trans(x, inverse = False):\n",
    "    \"\"\" quick function for computing cube root and cube operations \"\"\"\n",
    "    if not inverse:\n",
    "        return x ** (1/3)\n",
    "    else:\n",
    "        return x ** 3\n",
    "    \n",
    "    \n",
    "pisa['log_score'] = pisa['Average Total Score'].apply(log_trans)\n",
    "pisa['cr_time'] = pisa['Out-of-School Study Time - Total'].apply(cuberoot_trans)"
   ]
  },
  {
   "cell_type": "code",
   "execution_count": null,
   "metadata": {},
   "outputs": [],
   "source": [
    "pisa_countries.head()"
   ]
  },
  {
   "cell_type": "code",
   "execution_count": null,
   "metadata": {},
   "outputs": [],
   "source": [
    "pisa_cnt = pisa_countries.copy()"
   ]
  },
  {
   "cell_type": "code",
   "execution_count": null,
   "metadata": {},
   "outputs": [],
   "source": [
    "pisa_cnt = pisa_cnt.reset_index()"
   ]
  },
  {
   "cell_type": "code",
   "execution_count": null,
   "metadata": {
    "scrolled": false
   },
   "outputs": [],
   "source": [
    "pisa_cnt.head()"
   ]
  },
  {
   "cell_type": "code",
   "execution_count": null,
   "metadata": {},
   "outputs": [],
   "source": [
    "sb.regplot(data= pisa_cnt, x = 'Out-of-School Study Time - Total', \n",
    "           y = 'Average Total Score', \n",
    "           fit_reg = False)\n",
    "plt.xlabel('Out-of-School Study Time - Total')\n",
    "plt.ylabel('Learning time (minutes per week) - Total');"
   ]
  },
  {
   "cell_type": "code",
   "execution_count": null,
   "metadata": {},
   "outputs": [],
   "source": [
    "sb.pointplot(data = pisa, \n",
    "              x = 'Out-of-School Study Time - Total', \n",
    "              y = 'Average Total Score');\n",
    "plt.xticks(rotation = 15);"
   ]
  },
  {
   "cell_type": "code",
   "execution_count": null,
   "metadata": {},
   "outputs": [],
   "source": []
  },
  {
   "cell_type": "code",
   "execution_count": null,
   "metadata": {},
   "outputs": [],
   "source": [
    "pisa.head()"
   ]
  },
  {
   "cell_type": "code",
   "execution_count": null,
   "metadata": {
    "scrolled": false
   },
   "outputs": [],
   "source": [
    "g = sb.FacetGrid(pisa, col='Country', col_wrap=3, height=10)\n",
    "g = g.map(sb.pointplot, 'Average Total Score', 'Out-of-School Study Time - Total')"
   ]
  },
  {
   "cell_type": "code",
   "execution_count": null,
   "metadata": {},
   "outputs": [],
   "source": [
    "pisa_countries = pisa.groupby('Country').mean()\n",
    "# ct_counts = ct_counts.reset_index(name = 'count')\n",
    "# ct_counts = ct_counts.pivot(index = 'Country', columns = 'Average Total Score', values = 'count')"
   ]
  },
  {
   "cell_type": "code",
   "execution_count": null,
   "metadata": {},
   "outputs": [],
   "source": [
    "pisa_countries"
   ]
  },
  {
   "cell_type": "code",
   "execution_count": null,
   "metadata": {
    "scrolled": false
   },
   "outputs": [],
   "source": [
    "g = sb.FacetGrid(pisa, col=\"Country\", col_wrap=3, height=10)\n",
    "g = g.map(plt.plot, 'log_score', 'cr_time')\n",
    "\n",
    "\n",
    "# sb.heatmap(ct_counts, annot = True, fmt = 'd');\n",
    "# fmt makes them into decimal values aka readable"
   ]
  },
  {
   "cell_type": "code",
   "execution_count": null,
   "metadata": {},
   "outputs": [],
   "source": [
    "# for each country, average score and time studied"
   ]
  },
  {
   "cell_type": "code",
   "execution_count": null,
   "metadata": {},
   "outputs": [],
   "source": []
  },
  {
   "cell_type": "code",
   "execution_count": null,
   "metadata": {},
   "outputs": [],
   "source": []
  },
  {
   "cell_type": "code",
   "execution_count": null,
   "metadata": {},
   "outputs": [],
   "source": []
  },
  {
   "cell_type": "code",
   "execution_count": null,
   "metadata": {},
   "outputs": [],
   "source": []
  },
  {
   "cell_type": "code",
   "execution_count": null,
   "metadata": {},
   "outputs": [],
   "source": []
  },
  {
   "cell_type": "code",
   "execution_count": null,
   "metadata": {},
   "outputs": [],
   "source": []
  },
  {
   "cell_type": "code",
   "execution_count": null,
   "metadata": {},
   "outputs": [],
   "source": []
  },
  {
   "cell_type": "code",
   "execution_count": null,
   "metadata": {},
   "outputs": [],
   "source": []
  },
  {
   "cell_type": "code",
   "execution_count": null,
   "metadata": {},
   "outputs": [],
   "source": []
  },
  {
   "cell_type": "code",
   "execution_count": null,
   "metadata": {},
   "outputs": [],
   "source": []
  },
  {
   "cell_type": "code",
   "execution_count": null,
   "metadata": {},
   "outputs": [],
   "source": []
  },
  {
   "cell_type": "code",
   "execution_count": null,
   "metadata": {},
   "outputs": [],
   "source": []
  },
  {
   "cell_type": "markdown",
   "metadata": {},
   "source": [
    "### Talk about some of the relationships you observed in this part of the investigation. Were there features that strengthened each other in terms of looking at your feature(s) of interest?\n",
    "\n",
    "> Your answer here!\n",
    "\n",
    "### Were there any interesting or surprising interactions between features?\n",
    "\n",
    "> Your answer here!"
   ]
  },
  {
   "cell_type": "markdown",
   "metadata": {},
   "source": [
    "> At the end of your report, make sure that you export the notebook as an\n",
    "html file from the `File > Download as... > HTML` menu. Make sure you keep\n",
    "track of where the exported file goes, so you can put it in the same folder\n",
    "as this notebook for project submission. Also, make sure you remove all of\n",
    "the quote-formatted guide notes like this one before you finish your report!"
   ]
  },
  {
   "cell_type": "code",
   "execution_count": null,
   "metadata": {},
   "outputs": [],
   "source": []
  }
 ],
 "metadata": {
  "kernelspec": {
   "display_name": "productivity",
   "language": "python",
   "name": "productivity"
  },
  "language_info": {
   "codemirror_mode": {
    "name": "ipython",
    "version": 3
   },
   "file_extension": ".py",
   "mimetype": "text/x-python",
   "name": "python",
   "nbconvert_exporter": "python",
   "pygments_lexer": "ipython3",
   "version": "3.7.0"
  }
 },
 "nbformat": 4,
 "nbformat_minor": 2
}
